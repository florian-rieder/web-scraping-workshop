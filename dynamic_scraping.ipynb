{
 "cells": [
  {
   "cell_type": "markdown",
   "metadata": {},
   "source": [
    "# Scraping dynamique\n",
    "\n",
    "Sur certains sites, les informations qu'on veut obtenir sont rendues côté client avec du javascript. Cette mécanique de rendu rend le scraping statique impossible, puisque le fichier HTML qu'on reçoit en faisant une requête est presque vide.\n",
    "\n",
    "Démonstration:"
   ]
  },
  {
   "cell_type": "code",
   "execution_count": 6,
   "metadata": {},
   "outputs": [
    {
     "data": {
      "text/plain": [
       "[]"
      ]
     },
     "execution_count": 6,
     "metadata": {},
     "output_type": "execute_result"
    }
   ],
   "source": [
    "import requests\n",
    "from bs4 import BeautifulSoup\n",
    "\n",
    "url = \"http://quotes.toscrape.com/js/\"\n",
    "response = requests.get(url)\n",
    "\n",
    "soup = BeautifulSoup(response.text)\n",
    "\n",
    "soup.find_all(\"div\", class_=\"quote\")"
   ]
  },
  {
   "cell_type": "markdown",
   "metadata": {},
   "source": [
    "\n",
    "Sans surprise, on ne trouve rien sur la page ! Pourtant, les éléments class=\"quote\" sont bien présents quand inspecte l'élément dans le navigateur !\n",
    "C'est parce que tout le contenu est chargé avec du javascript."
   ]
  },
  {
   "cell_type": "markdown",
   "metadata": {},
   "source": [
    "## Selenium\n",
    "\n",
    "On va utiliser Firefox dans cette démonstration. Vous avez donc besoin d'avoir Firefox installé sur votre machine, ce qui est probablement déjà le cas, mais également le WebDriver pour Firefox, `geckodriver`, qui n'est peut-être pas là par défaut.\n",
    "\n",
    "\n",
    "Installation MacOs:\n",
    "```bash\n",
    "brew install geckodriver\n",
    "```\n",
    "Installation Linux:\n",
    "```bash\n",
    "sudo apt install firefox\n",
    "```\n",
    "ou\n",
    "```bash\n",
    "sudo apt install firefox-geckodriver\n",
    "```\n",
    "\n",
    "Ou manuellement:\n",
    "\n",
    "[Télécharger geckodriver](https://github.com/mozilla/geckodriver/releases)\n",
    "\n",
    "Extraire l'exécutable, puis placer `geckodriver` dans /usr/local/bin/"
   ]
  },
  {
   "cell_type": "code",
   "execution_count": 1,
   "metadata": {},
   "outputs": [],
   "source": [
    "import time\n",
    "\n",
    "import pandas as pd\n",
    "from selenium import webdriver\n",
    "from selenium.common.exceptions import NoSuchElementException\n",
    "from selenium.webdriver.common.by import By\n",
    "from selenium.webdriver.firefox.options import Options\n",
    "from selenium.webdriver.support.ui import WebDriverWait\n",
    "from selenium.webdriver.support import expected_conditions as EC"
   ]
  },
  {
   "cell_type": "markdown",
   "metadata": {},
   "source": [
    "Commençons par initialiser notre crawler"
   ]
  },
  {
   "cell_type": "code",
   "execution_count": 7,
   "metadata": {},
   "outputs": [],
   "source": [
    "MAX_WAIT = 10\n",
    "\n",
    "options = Options()\n",
    "# options.add_argument(\"--headless\") # pour faire tourner firefox en tâche de fond\n",
    "# proxy = Proxy({ # Paramètres pour passer par un proxy\n",
    "#             'proxyType': ProxyType.MANUAL,\n",
    "#             'httpProxy': proxy_address,\n",
    "#             'sslProxy': proxy_address,\n",
    "#             'noProxy': ''\n",
    "#         })\n",
    "# options.proxy = proxy\n",
    "driver = webdriver.Firefox(options=options)"
   ]
  },
  {
   "cell_type": "markdown",
   "metadata": {},
   "source": [
    "Super, on vient de lancer une fenêtre Firefox vide !\n",
    "\n",
    "Ouvrons une page !"
   ]
  },
  {
   "cell_type": "code",
   "execution_count": 8,
   "metadata": {},
   "outputs": [],
   "source": [
    "url = \"http://quotes.toscrape.com/js/\"\n",
    "driver.get(url)\n",
    "\n",
    "# Attente implicite (s'applique globalement)\n",
    "driver.implicitly_wait(3)\n",
    "\n",
    "all_quotes = []"
   ]
  },
  {
   "cell_type": "code",
   "execution_count": 9,
   "metadata": {},
   "outputs": [],
   "source": [
    "while True:\n",
    "    # Attente implicite: attend que les quotes soient présentes dans la page (mais au maximum 10 secondes)\n",
    "    WebDriverWait(driver, MAX_WAIT).until(\n",
    "        EC.presence_of_element_located((By.CLASS_NAME, \"quote\"))\n",
    "    )\n",
    "\n",
    "    quotes = driver.find_elements(By.CLASS_NAME, \"quote\")\n",
    "\n",
    "    for quote in quotes:\n",
    "        text = quote.find_element(By.CLASS_NAME, \"text\").text\n",
    "        author = quote.find_element(By.CLASS_NAME, \"author\").text\n",
    "        tags = [tag.text for tag in quote.find_elements(By.CLASS_NAME, \"tag\")]\n",
    "        all_quotes.append({\"text\": text, \"author\": author, \"tags\": \", \".join(tags)})\n",
    "\n",
    "    # On attend encore un peu avant de passer à la page suivante\n",
    "    time.sleep(0.5)\n",
    "\n",
    "    try:\n",
    "        next_btn = driver.find_element(By.CSS_SELECTOR, \".next > a\")\n",
    "        next_btn.click()\n",
    "    except NoSuchElementException:\n",
    "        break  # No more pages\n",
    "\n",
    "driver.quit()"
   ]
  },
  {
   "cell_type": "code",
   "execution_count": 10,
   "metadata": {},
   "outputs": [
    {
     "name": "stdout",
     "output_type": "stream",
     "text": [
      "                                                text           author  \\\n",
      "0  “The world as we have created it is a process ...  Albert Einstein   \n",
      "1  “It is our choices, Harry, that show what we t...     J.K. Rowling   \n",
      "2  “There are only two ways to live your life. On...  Albert Einstein   \n",
      "3  “The person, be it gentleman or lady, who has ...      Jane Austen   \n",
      "4  “Imperfection is beauty, madness is genius and...   Marilyn Monroe   \n",
      "\n",
      "                                           tags  \n",
      "0        change, deep-thoughts, thinking, world  \n",
      "1                            abilities, choices  \n",
      "2  inspirational, life, live, miracle, miracles  \n",
      "3              aliteracy, books, classic, humor  \n",
      "4                    be-yourself, inspirational  \n"
     ]
    }
   ],
   "source": [
    "# Output CSV\n",
    "df = pd.DataFrame(all_quotes)\n",
    "df.to_csv(\"data/quotes.csv\", index=False)\n",
    "print(df.head())"
   ]
  },
  {
   "cell_type": "markdown",
   "metadata": {},
   "source": [
    "## Bonus\n",
    "\n",
    "Bon, en l'occurrence, si on va regarder dans le code source de la page, on se rend très rapidement compte que les données sont en dur dans script dans le HTML.\n",
    "Une chose intéressante qu'on peut faire avec ça, c'est exécuter du javascript dans la page via Selenium pour récupérer ces données:"
   ]
  },
  {
   "cell_type": "code",
   "execution_count": null,
   "metadata": {},
   "outputs": [
    {
     "name": "stdout",
     "output_type": "stream",
     "text": [
      "“The world as we have created it is a process of our thinking. It cannot be changed without changing our thinking.” - Albert Einstein\n",
      "“It is our choices, Harry, that show what we truly are, far more than our abilities.” - J.K. Rowling\n",
      "“There are only two ways to live your life. One is as though nothing is a miracle. The other is as though everything is a miracle.” - Albert Einstein\n",
      "“The person, be it gentleman or lady, who has not pleasure in a good novel, must be intolerably stupid.” - Jane Austen\n",
      "“Imperfection is beauty, madness is genius and it's better to be absolutely ridiculous than absolutely boring.” - Marilyn Monroe\n",
      "“Try not to become a man of success. Rather become a man of value.” - Albert Einstein\n",
      "“It is better to be hated for what you are than to be loved for what you are not.” - André Gide\n",
      "“I have not failed. I've just found 10,000 ways that won't work.” - Thomas A. Edison\n",
      "“A woman is like a tea bag; you never know how strong it is until it's in hot water.” - Eleanor Roosevelt\n",
      "“A day without sunshine is like, you know, night.” - Steve Martin\n"
     ]
    }
   ],
   "source": [
    "options = Options()\n",
    "options.add_argument(\"--headless\")\n",
    "driver = webdriver.Firefox(options=options)\n",
    "driver.get(\"http://quotes.toscrape.com/js/\")\n",
    "\n",
    "WebDriverWait(driver, MAX_WAIT).until(\n",
    "    EC.presence_of_element_located((By.CLASS_NAME, \"quote\"))\n",
    ")\n",
    "\n",
    "js_data = driver.execute_script(\"return data;\")\n",
    "for item in js_data:\n",
    "    print(item[\"text\"], \"-\", item[\"author\"][\"name\"])\n",
    "\n",
    "driver.quit()"
   ]
  },
  {
   "cell_type": "markdown",
   "metadata": {},
   "source": [
    "C'est \"\"\"presque\"\"\" l'équivalent d'aller taper dans une API directement.\n",
    "Généralement, il est préférable de scraper des APIs plutôt que des pages web !"
   ]
  },
  {
   "cell_type": "markdown",
   "metadata": {},
   "source": [
    "## Bonus: authentification par cookies\n"
   ]
  },
  {
   "cell_type": "code",
   "execution_count": 15,
   "metadata": {},
   "outputs": [],
   "source": [
    "def read_cookies(cookie_file: str) -> list[dict]:\n",
    "    cookies = []\n",
    "    with open(cookie_file, \"r\") as f:\n",
    "        for line in f:\n",
    "            line = line.strip()\n",
    "            if line.startswith(\"#\") or not line:\n",
    "                continue\n",
    "\n",
    "            try:\n",
    "                domain, flag, path, secure, expiry, name, value = line.split(\"\\t\")\n",
    "\n",
    "                cookie = {\n",
    "                    \"domain\": domain,\n",
    "                    \"name\": name,\n",
    "                    \"value\": value,\n",
    "                    \"path\": path,\n",
    "                    \"secure\": secure.lower() == \"true\",\n",
    "                }\n",
    "\n",
    "                if expiry != \"0\":\n",
    "                    cookie[\"expiry\"] = int(expiry)\n",
    "\n",
    "                cookies.append(cookie)\n",
    "\n",
    "            except ValueError:\n",
    "                print(f\"Skipping malformed cookie line: {line}\")\n",
    "                continue\n",
    "\n",
    "    print(f\"Loaded {len(cookies)} cookies\")\n",
    "    return cookies"
   ]
  },
  {
   "cell_type": "code",
   "execution_count": 16,
   "metadata": {},
   "outputs": [
    {
     "name": "stdout",
     "output_type": "stream",
     "text": [
      "Loaded 1 cookies\n"
     ]
    }
   ],
   "source": [
    "cookies = read_cookies(\"cookies-quotes-toscrape-com.txt\")"
   ]
  },
  {
   "cell_type": "markdown",
   "metadata": {},
   "source": [
    "Ajouter les cookies à notre instance de Firefox"
   ]
  },
  {
   "cell_type": "code",
   "execution_count": 27,
   "metadata": {},
   "outputs": [
    {
     "name": "stdout",
     "output_type": "stream",
     "text": [
      "{'domain': 'quotes.toscrape.com', 'name': 'session', 'value': 'eyJjc3JmX3Rva2VuIjoidUJTcElWYXlaaVdNRGVPZkdFQWJQZGprUWx6SktnbXNVUlljdENGblRxWEhOb3Z3aEx4ciIsInVzZXJuYW1lIjoidXNlciJ9.aAAlOg.4pYuLKVmAY7I9O5bB4lcwHMCpgg', 'path': '/', 'secure': False}\n"
     ]
    }
   ],
   "source": [
    "from selenium.webdriver.firefox.firefox_profile import FirefoxProfile\n",
    "\n",
    "options = Options()\n",
    "firefox_profile = FirefoxProfile()\n",
    "options.profile = firefox_profile\n",
    "driver = webdriver.Firefox(options=options)\n",
    "\n",
    "driver.get(\"https://quotes.toscrape.com/js/\")\n",
    "\n",
    "for cookie in cookies:\n",
    "    print(cookie)\n",
    "    try:\n",
    "        driver.add_cookie(cookie)\n",
    "    except Exception as e:\n",
    "        print(f\"Failed to add cookie {cookie['name']}: {str(e)}\")\n",
    "\n",
    "driver.implicitly_wait(3)\n",
    "\n",
    "\n",
    "driver.refresh()\n",
    "\n",
    "WebDriverWait(driver, MAX_WAIT)\n",
    "\n",
    "driver.quit()"
   ]
  },
  {
   "cell_type": "markdown",
   "metadata": {},
   "source": [
    "Aha. Mais ça ne marche pas...\n",
    "\n",
    "C'est parce que le serveur utilise un token CSRF généré au moment du login et vérifié côté serveur. Ceci nous oblige a repliquer le flux du login:"
   ]
  },
  {
   "cell_type": "code",
   "execution_count": 34,
   "metadata": {},
   "outputs": [
    {
     "name": "stdout",
     "output_type": "stream",
     "text": [
      "Login successful!\n",
      "I'm in.\n"
     ]
    }
   ],
   "source": [
    "# Setup\n",
    "options = Options()\n",
    "driver = webdriver.Firefox(options=options)\n",
    "\n",
    "driver.get(\"https://quotes.toscrape.com/login\")\n",
    "\n",
    "# Wait for page to load\n",
    "WebDriverWait(driver, 10).until(EC.presence_of_element_located((By.NAME, \"csrf_token\")))\n",
    "\n",
    "# Extract CSRF token\n",
    "csrf_token = driver.find_element(By.NAME, \"csrf_token\").get_attribute(\"value\")\n",
    "\n",
    "# Fill in the form\n",
    "driver.find_element(By.ID, \"username\").send_keys(\"admin\")\n",
    "driver.find_element(By.ID, \"password\").send_keys(\"password\")\n",
    "\n",
    "# Submit the form\n",
    "driver.find_element(By.CSS_SELECTOR, \"input[value='Login']\").click()\n",
    "\n",
    "# Wait for login to process (e.g., look for logout or profile link)\n",
    "WebDriverWait(driver, 10).until(\n",
    "    EC.presence_of_element_located((By.LINK_TEXT, \"Logout\"))\n",
    ")\n",
    "\n",
    "print(\"Login successful!\")\n",
    "\n",
    "# Now go to the quotes page\n",
    "driver.get(\"https://quotes.toscrape.com/js\")\n",
    "WebDriverWait(driver, 10).until(\n",
    "    EC.presence_of_element_located((By.CLASS_NAME, \"quote\"))\n",
    ")\n",
    "\n",
    "# You're in.\n",
    "print(\"I'm in.\")\n",
    "\n",
    "WebDriverWait(driver, 10)\n",
    "\n",
    "\n",
    "driver.quit()"
   ]
  }
 ],
 "metadata": {
  "kernelspec": {
   "display_name": ".venv",
   "language": "python",
   "name": "python3"
  },
  "language_info": {
   "codemirror_mode": {
    "name": "ipython",
    "version": 3
   },
   "file_extension": ".py",
   "mimetype": "text/x-python",
   "name": "python",
   "nbconvert_exporter": "python",
   "pygments_lexer": "ipython3",
   "version": "3.13.2"
  }
 },
 "nbformat": 4,
 "nbformat_minor": 2
}
